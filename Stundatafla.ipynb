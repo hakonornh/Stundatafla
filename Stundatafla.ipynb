{
  "nbformat": 4,
  "nbformat_minor": 0,
  "metadata": {
    "colab": {
      "name": "Stundatafla.ipynb",
      "provenance": [],
      "collapsed_sections": [],
      "include_colab_link": true
    },
    "kernelspec": {
      "display_name": "Python 3",
      "name": "python3"
    },
    "language_info": {
      "name": "python"
    }
  },
  "cells": [
    {
      "cell_type": "markdown",
      "metadata": {
        "id": "view-in-github",
        "colab_type": "text"
      },
      "source": [
        "<a href=\"https://colab.research.google.com/github/hakonornh/Stundatafla/blob/main/Stundatafla.ipynb\" target=\"_parent\"><img src=\"https://colab.research.google.com/assets/colab-badge.svg\" alt=\"Open In Colab\"/></a>"
      ]
    },
    {
      "cell_type": "markdown",
      "metadata": {
        "id": "p-f5Re1Lqkc_"
      },
      "source": [
        "**Stundatafla**\n",
        "\n",
        "Markmið verkefnis er að búa til stundatöflu sem uppfyllir okkar kröfur.\n",
        "\n",
        "Ákvörðunarbreytur (e. decision variables) eru:\n",
        "\n",
        "$N$: fjöldi námskeiða\n",
        "\n",
        "$S$: fjöldi stofa\n",
        "\n",
        "$Sn$: stærð stofu\n",
        "\n",
        "$H$: fjöldi hólfa\n",
        "\n",
        "$D$: fjöldi vikudaga\n",
        "\n",
        "$B$: byggingar\n",
        "\n",
        "Skorður:\n",
        "\n",
        "Hver áfangi á tvö slot í viku\n",
        "\n",
        "$$\\sum_{s\\in S,h\\in H,d\\in D} y_{n,s,d,h} \\leq 2 \\quad \\forall n\\in N$$\n",
        "\n",
        "Engir tímar fyrir kl. 10 á mánudögum og eftir hádegi á föstudögum\n",
        "\n",
        "$$y_{n,s,1,1} = 0 \\quad \\forall n \\in N, \\forall s \\in S$$\n",
        "\n",
        "$$y_{n,s,5,3} = 0 \\quad \\forall n \\in N, \\forall s \\in S$$\n",
        "\n",
        "Það geta ekki verið tveir tímar á sama tíma\n",
        "\n",
        "$$\\sum_{n\\in N} y_{n,s,d,h}\\leq 1  \\quad \\forall n\\in N$$\n",
        "\n",
        "Ekki er hægt að tvíbóka stofu (ATH?)\n",
        "\n",
        "$$\\sum_{s\\in S} y_{n,s,d,h}\\leq 1 \\quad \\forall n\\in N, d\\in D, h\\in H$$\n",
        "\n",
        "Sami áfangi má ekki vera kenndur tvisvar sinnum sama dag\n",
        "\n",
        "$$\\sum_{n\\in N,d\\in D} y_{n,d}\\leq 1 $$\n",
        "\n",
        "\n",
        "\n",
        "\n",
        "\n"
      ]
    },
    {
      "cell_type": "code",
      "metadata": {
        "colab": {
          "base_uri": "https://localhost:8080/"
        },
        "id": "wX2xwoLLJh1f",
        "outputId": "8154f0b7-3b9e-4ebb-9f70-e07c0aa1083f"
      },
      "source": [
        "!python -m pip install -i https://pypi.gurobi.com gurobipy\n",
        "import gurobipy as gp\n",
        "from gurobipy import GRB\n",
        "import numpy as np"
      ],
      "execution_count": null,
      "outputs": [
        {
          "output_type": "stream",
          "name": "stdout",
          "text": [
            "Looking in indexes: https://pypi.gurobi.com\n",
            "Requirement already satisfied: gurobipy in /usr/local/lib/python3.7/dist-packages (9.1.2)\n"
          ]
        }
      ]
    },
    {
      "cell_type": "code",
      "metadata": {
        "id": "SMZ0Ik-TJkob"
      },
      "source": [
        "# Byggingar (B) og Stofur (S) ásamt stærð stofu (Sn)\n",
        "B = { \"Askja\" : [\"N-132\",\"N-121\",\"N-129\",\"N-130\",\"N-120\",\"N-128\",\"N-131\"], \n",
        "      \"Logberg\": [\"L-101\",\"L-102\",\"L-103\"], \n",
        "      \"VR-II\": [\"V02-262\",\"V02-147\",\"V02-352\",\"V02-354\",\"V02-156\",\"V02-138\",\"V02-258\",\"V02-261\",\"V02-151\",\"V02-148\",\"V02-158\",\"V02-157\",\"V02-152\",\"V02-155\"],\n",
        "      \"Haskolabio\" : [\"HB-2\",\"HB-3\",\"HB-1\"], \n",
        "      \"Oddi\" : [\"O-101\",\"O-201\",\"O-202\"], \n",
        "      \"Taeknigardur\" : [\"Tg-227\"], \n",
        "      \"Naustid\" : [\"Naustid\"], \n",
        "      \"Haskolatorg\": [\"HT-101\",\"HT-104\",\"HT-103\",\"HT-105\",\"HT-102\"],\n",
        "      \"Arnagardur\" : [\"Ag-201\",\"Ag-301\",\"Ag-304\",\"Ag-311\",\"Ag-422\"]}\n",
        "S = []\n",
        "for b in B.keys():\n",
        "  S.extend(B[b])\n",
        "Sn = {\n",
        "    \"V02-147\": 30,\n",
        "    \"V02-258\": 34,\n",
        "    \"N-131\": 55,\n",
        "    \"V02-262\": 40,\n",
        "    \"V02-261\": 60,\n",
        "    \"N-120\": 15,\n",
        "    \"Tg-227\": 20,\n",
        "    \"O-202\": 40,\n",
        "    \"HB-2\": 203,\n",
        "    \"V02-352\": 28,\n",
        "    \"HT-104\": 100,\n",
        "    \"O-101\": 93,\n",
        "    \"N-129\": 25,\n",
        "    \"V02-155\": 38,\n",
        "    \"HT-105\": 180,\n",
        "    \"N-130\": 35,\n",
        "    \"Ag-422\": 66,\n",
        "    \"O-201\": 88,\n",
        "    \"V02-138\": 22,\n",
        "    \"V02-354\": 40,\n",
        "    \"HB-1\": 296,\n",
        "    \"V02-157\": 75,\n",
        "    \"V02-151\": 12,\n",
        "    \"V02-156\": 42,\n",
        "    \"HT-102\": 180,\n",
        "    \"V02-158\": 75,\n",
        "    \"L-103\": 50,\n",
        "    \"HT-101\": 60,\n",
        "    \"Ag-311\": 52,\n",
        "    \"N-132\": 150,\n",
        "    \"HT-103\": 100,\n",
        "    \"N-128\": 24,\n",
        "    \"N-121\": 22,\n",
        "    \"HB-3\": 142,\n",
        "    \"Ag-201\": 86,\n",
        "    \"L-102\": 50,\n",
        "    \"L-101\": 106,\n",
        "    \"Ag-304\": 40,\n",
        "    \"Ag-301\": 86,\n",
        "    \"Naustid\": 28\n",
        "}\n",
        "S = [s for s in Sn.keys()]\n"
      ],
      "execution_count": null,
      "outputs": []
    },
    {
      "cell_type": "code",
      "metadata": {
        "colab": {
          "resources": {
            "http://localhost:8080/nbextensions/google.colab/files.js": {
              "data": "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",
              "ok": true,
              "headers": [
                [
                  "content-type",
                  "application/javascript"
                ]
              ],
              "status": 200,
              "status_text": ""
            }
          },
          "base_uri": "https://localhost:8080/",
          "height": 106
        },
        "id": "g3jP_C-WQJhR",
        "outputId": "ac43556d-027b-4401-8995-9d4b997f0ef1"
      },
      "source": [
        "import pandas as pd\n",
        "import numpy as np\n",
        "from google.colab import files\n",
        "uploaded = files.upload()"
      ],
      "execution_count": null,
      "outputs": [
        {
          "output_type": "display_data",
          "data": {
            "text/html": [
              "\n",
              "     <input type=\"file\" id=\"files-a206d3b0-cafd-4e0a-b2b6-c5205035c32d\" name=\"files[]\" multiple disabled\n",
              "        style=\"border:none\" />\n",
              "     <output id=\"result-a206d3b0-cafd-4e0a-b2b6-c5205035c32d\">\n",
              "      Upload widget is only available when the cell has been executed in the\n",
              "      current browser session. Please rerun this cell to enable.\n",
              "      </output>\n",
              "      <script src=\"/nbextensions/google.colab/files.js\"></script> "
            ],
            "text/plain": [
              "<IPython.core.display.HTML object>"
            ]
          },
          "metadata": {}
        },
        {
          "output_type": "stream",
          "name": "stdout",
          "text": [
            "Saving fjoldinema.xlsx to fjoldinema (1).xlsx\n",
            "Saving namsleidir.xlsx to namsleidir (1).xlsx\n"
          ]
        }
      ]
    },
    {
      "cell_type": "code",
      "metadata": {
        "colab": {
          "background_save": true
        },
        "id": "bqokyBZcJlDU"
      },
      "source": [
        "# Skráningartölur (fjöldi nema) og tenging námskeiða (já/nei eða 1/0) í námsbrautum\n",
        "# Gögnin er í Excel skjölum sem heita fjoldinema.xlsx og namsleidir.xlsx (sjá Canvas)\n",
        "import pandas as pd\n",
        "\n",
        "A = pd.read_excel('fjoldinema.xlsx', index_col='Unnamed: 0')\n",
        "L = pd.read_excel('namsleidir.xlsx', index_col='Unnamed: 0')\n",
        "# Námskeiðin eru:\n",
        "N = [a for a in A.index if not \"TÆK\" in a]\n",
        "\n"
      ],
      "execution_count": null,
      "outputs": []
    },
    {
      "cell_type": "code",
      "metadata": {
        "colab": {
          "base_uri": "https://localhost:8080/",
          "height": 442
        },
        "id": "iAyZY3vAJzUx",
        "outputId": "9b0d2149-ec23-4746-9e28-e10dce8be911"
      },
      "source": [
        "#gefnar\n",
        "d = ['Mánudagur','Þriðjudagur','Miðvikudagur','Fimmtudagur','Föstudagur'] #dagar\n",
        "h = [1,2,3]\n",
        "S = [s for s in Sn.keys()]\n",
        "\n",
        "m = gp.Model('Stundatafla')\n",
        "\n",
        "#Breytur\n",
        "y = m.addVars(S,d,h,N, vtype = 'B')\n",
        "\n",
        "#Skorður\n",
        "m.addConstrs(gp.quicksum(y[stofur,dagar,holf,namskeid] for stofur in S for dagar in d for holf in h) <= 2 for namskeid in N) #fyrir hvert námskeið eru tvö hólf í viku\n",
        "m.addConstrs(gp.quicksum(y[stofur, dagar, holf, namskeid] for stofur in S for dagar in d for namskeid in N) <= 1 for holf in h) #Ekki tveir tímar í sama hólf\n",
        "m.addConstrs(gp.quicksum(y[stofur, dagar, holf, namskeid] for dagar in D for holf in h for namskeid in N) <= 1 for stofur in S) #ekki hægt að tvíbóka stofur\n",
        "m.addConstrs(gp.quicksum(y[dagar,namskeid] for dagar in d) <=1 for namskeid in N)\n",
        "\n",
        "#Optimze\n",
        "#m.optimize('Stundatafla')\n"
      ],
      "execution_count": null,
      "outputs": [
        {
          "output_type": "error",
          "ename": "KeyError",
          "evalue": "ignored",
          "traceback": [
            "\u001b[0;31m---------------------------------------------------------------------------\u001b[0m",
            "\u001b[0;31mKeyError\u001b[0m                                  Traceback (most recent call last)",
            "\u001b[0;32m<ipython-input-40-0c378a930959>\u001b[0m in \u001b[0;36m<module>\u001b[0;34m()\u001b[0m\n\u001b[1;32m     12\u001b[0m \u001b[0mm\u001b[0m\u001b[0;34m.\u001b[0m\u001b[0maddConstrs\u001b[0m\u001b[0;34m(\u001b[0m\u001b[0mgp\u001b[0m\u001b[0;34m.\u001b[0m\u001b[0mquicksum\u001b[0m\u001b[0;34m(\u001b[0m\u001b[0my\u001b[0m\u001b[0;34m[\u001b[0m\u001b[0mstofur\u001b[0m\u001b[0;34m,\u001b[0m\u001b[0mdagar\u001b[0m\u001b[0;34m,\u001b[0m\u001b[0mholf\u001b[0m\u001b[0;34m,\u001b[0m\u001b[0mnamskeid\u001b[0m\u001b[0;34m]\u001b[0m \u001b[0;32mfor\u001b[0m \u001b[0mstofur\u001b[0m \u001b[0;32min\u001b[0m \u001b[0mS\u001b[0m \u001b[0;32mfor\u001b[0m \u001b[0mdagar\u001b[0m \u001b[0;32min\u001b[0m \u001b[0md\u001b[0m \u001b[0;32mfor\u001b[0m \u001b[0mholf\u001b[0m \u001b[0;32min\u001b[0m \u001b[0mh\u001b[0m\u001b[0;34m)\u001b[0m \u001b[0;34m<=\u001b[0m \u001b[0;36m2\u001b[0m \u001b[0;32mfor\u001b[0m \u001b[0mnamskeid\u001b[0m \u001b[0;32min\u001b[0m \u001b[0mN\u001b[0m\u001b[0;34m)\u001b[0m \u001b[0;31m#fyrir hvert námskeið eru tvö hólf í viku\u001b[0m\u001b[0;34m\u001b[0m\u001b[0;34m\u001b[0m\u001b[0m\n\u001b[1;32m     13\u001b[0m \u001b[0mm\u001b[0m\u001b[0;34m.\u001b[0m\u001b[0maddConstrs\u001b[0m\u001b[0;34m(\u001b[0m\u001b[0mgp\u001b[0m\u001b[0;34m.\u001b[0m\u001b[0mquicksum\u001b[0m\u001b[0;34m(\u001b[0m\u001b[0my\u001b[0m\u001b[0;34m[\u001b[0m\u001b[0mstofur\u001b[0m\u001b[0;34m,\u001b[0m \u001b[0mdagar\u001b[0m\u001b[0;34m,\u001b[0m \u001b[0mholf\u001b[0m\u001b[0;34m,\u001b[0m \u001b[0mnamskeid\u001b[0m\u001b[0;34m]\u001b[0m \u001b[0;32mfor\u001b[0m \u001b[0mstofur\u001b[0m \u001b[0;32min\u001b[0m \u001b[0mS\u001b[0m \u001b[0;32mfor\u001b[0m \u001b[0mdagar\u001b[0m \u001b[0;32min\u001b[0m \u001b[0md\u001b[0m \u001b[0;32mfor\u001b[0m \u001b[0mnamskeid\u001b[0m \u001b[0;32min\u001b[0m \u001b[0mN\u001b[0m\u001b[0;34m)\u001b[0m \u001b[0;34m<=\u001b[0m \u001b[0;36m1\u001b[0m \u001b[0;32mfor\u001b[0m \u001b[0mholf\u001b[0m \u001b[0;32min\u001b[0m \u001b[0mh\u001b[0m\u001b[0;34m)\u001b[0m \u001b[0;31m#Ekki tveir tímar í sama hólf\u001b[0m\u001b[0;34m\u001b[0m\u001b[0;34m\u001b[0m\u001b[0m\n\u001b[0;32m---> 14\u001b[0;31m \u001b[0mm\u001b[0m\u001b[0;34m.\u001b[0m\u001b[0maddConstrs\u001b[0m\u001b[0;34m(\u001b[0m\u001b[0mgp\u001b[0m\u001b[0;34m.\u001b[0m\u001b[0mquicksum\u001b[0m\u001b[0;34m(\u001b[0m\u001b[0my\u001b[0m\u001b[0;34m[\u001b[0m\u001b[0mstofur\u001b[0m\u001b[0;34m,\u001b[0m \u001b[0mdagar\u001b[0m\u001b[0;34m,\u001b[0m \u001b[0mholf\u001b[0m\u001b[0;34m,\u001b[0m \u001b[0mnamskeid\u001b[0m\u001b[0;34m]\u001b[0m \u001b[0;32mfor\u001b[0m \u001b[0mdagar\u001b[0m \u001b[0;32min\u001b[0m \u001b[0mD\u001b[0m \u001b[0;32mfor\u001b[0m \u001b[0mholf\u001b[0m \u001b[0;32min\u001b[0m \u001b[0mh\u001b[0m \u001b[0;32mfor\u001b[0m \u001b[0mnamskeid\u001b[0m \u001b[0;32min\u001b[0m \u001b[0mN\u001b[0m\u001b[0;34m)\u001b[0m \u001b[0;34m<=\u001b[0m \u001b[0;36m1\u001b[0m \u001b[0;32mfor\u001b[0m \u001b[0mstofur\u001b[0m \u001b[0;32min\u001b[0m \u001b[0mS\u001b[0m\u001b[0;34m)\u001b[0m \u001b[0;31m#ekki hægt að tvíbóka stofur\u001b[0m\u001b[0;34m\u001b[0m\u001b[0;34m\u001b[0m\u001b[0m\n\u001b[0m\u001b[1;32m     15\u001b[0m \u001b[0mm\u001b[0m\u001b[0;34m.\u001b[0m\u001b[0maddConstrs\u001b[0m\u001b[0;34m(\u001b[0m\u001b[0mgp\u001b[0m\u001b[0;34m.\u001b[0m\u001b[0mquicksum\u001b[0m\u001b[0;34m(\u001b[0m\u001b[0my\u001b[0m\u001b[0;34m[\u001b[0m\u001b[0mdagar\u001b[0m\u001b[0;34m,\u001b[0m\u001b[0mnamskeid\u001b[0m\u001b[0;34m]\u001b[0m \u001b[0;32mfor\u001b[0m \u001b[0mdagar\u001b[0m \u001b[0;32min\u001b[0m \u001b[0md\u001b[0m\u001b[0;34m)\u001b[0m \u001b[0;34m<=\u001b[0m\u001b[0;36m1\u001b[0m \u001b[0;32mfor\u001b[0m \u001b[0mnamskeid\u001b[0m \u001b[0;32min\u001b[0m \u001b[0mN\u001b[0m\u001b[0;34m)\u001b[0m\u001b[0;34m\u001b[0m\u001b[0;34m\u001b[0m\u001b[0m\n\u001b[1;32m     16\u001b[0m \u001b[0;34m\u001b[0m\u001b[0m\n",
            "\u001b[0;32msrc/gurobipy/model.pxi\u001b[0m in \u001b[0;36mgurobipy.Model.addConstrs\u001b[0;34m()\u001b[0m\n",
            "\u001b[0;32m<ipython-input-40-0c378a930959>\u001b[0m in \u001b[0;36m<genexpr>\u001b[0;34m(.0)\u001b[0m\n\u001b[1;32m     12\u001b[0m \u001b[0mm\u001b[0m\u001b[0;34m.\u001b[0m\u001b[0maddConstrs\u001b[0m\u001b[0;34m(\u001b[0m\u001b[0mgp\u001b[0m\u001b[0;34m.\u001b[0m\u001b[0mquicksum\u001b[0m\u001b[0;34m(\u001b[0m\u001b[0my\u001b[0m\u001b[0;34m[\u001b[0m\u001b[0mstofur\u001b[0m\u001b[0;34m,\u001b[0m\u001b[0mdagar\u001b[0m\u001b[0;34m,\u001b[0m\u001b[0mholf\u001b[0m\u001b[0;34m,\u001b[0m\u001b[0mnamskeid\u001b[0m\u001b[0;34m]\u001b[0m \u001b[0;32mfor\u001b[0m \u001b[0mstofur\u001b[0m \u001b[0;32min\u001b[0m \u001b[0mS\u001b[0m \u001b[0;32mfor\u001b[0m \u001b[0mdagar\u001b[0m \u001b[0;32min\u001b[0m \u001b[0md\u001b[0m \u001b[0;32mfor\u001b[0m \u001b[0mholf\u001b[0m \u001b[0;32min\u001b[0m \u001b[0mh\u001b[0m\u001b[0;34m)\u001b[0m \u001b[0;34m<=\u001b[0m \u001b[0;36m2\u001b[0m \u001b[0;32mfor\u001b[0m \u001b[0mnamskeid\u001b[0m \u001b[0;32min\u001b[0m \u001b[0mN\u001b[0m\u001b[0;34m)\u001b[0m \u001b[0;31m#fyrir hvert námskeið eru tvö hólf í viku\u001b[0m\u001b[0;34m\u001b[0m\u001b[0;34m\u001b[0m\u001b[0m\n\u001b[1;32m     13\u001b[0m \u001b[0mm\u001b[0m\u001b[0;34m.\u001b[0m\u001b[0maddConstrs\u001b[0m\u001b[0;34m(\u001b[0m\u001b[0mgp\u001b[0m\u001b[0;34m.\u001b[0m\u001b[0mquicksum\u001b[0m\u001b[0;34m(\u001b[0m\u001b[0my\u001b[0m\u001b[0;34m[\u001b[0m\u001b[0mstofur\u001b[0m\u001b[0;34m,\u001b[0m \u001b[0mdagar\u001b[0m\u001b[0;34m,\u001b[0m \u001b[0mholf\u001b[0m\u001b[0;34m,\u001b[0m \u001b[0mnamskeid\u001b[0m\u001b[0;34m]\u001b[0m \u001b[0;32mfor\u001b[0m \u001b[0mstofur\u001b[0m \u001b[0;32min\u001b[0m \u001b[0mS\u001b[0m \u001b[0;32mfor\u001b[0m \u001b[0mdagar\u001b[0m \u001b[0;32min\u001b[0m \u001b[0md\u001b[0m \u001b[0;32mfor\u001b[0m \u001b[0mnamskeid\u001b[0m \u001b[0;32min\u001b[0m \u001b[0mN\u001b[0m\u001b[0;34m)\u001b[0m \u001b[0;34m<=\u001b[0m \u001b[0;36m1\u001b[0m \u001b[0;32mfor\u001b[0m \u001b[0mholf\u001b[0m \u001b[0;32min\u001b[0m \u001b[0mh\u001b[0m\u001b[0;34m)\u001b[0m \u001b[0;31m#Ekki tveir tímar í sama hólf\u001b[0m\u001b[0;34m\u001b[0m\u001b[0;34m\u001b[0m\u001b[0m\n\u001b[0;32m---> 14\u001b[0;31m \u001b[0mm\u001b[0m\u001b[0;34m.\u001b[0m\u001b[0maddConstrs\u001b[0m\u001b[0;34m(\u001b[0m\u001b[0mgp\u001b[0m\u001b[0;34m.\u001b[0m\u001b[0mquicksum\u001b[0m\u001b[0;34m(\u001b[0m\u001b[0my\u001b[0m\u001b[0;34m[\u001b[0m\u001b[0mstofur\u001b[0m\u001b[0;34m,\u001b[0m \u001b[0mdagar\u001b[0m\u001b[0;34m,\u001b[0m \u001b[0mholf\u001b[0m\u001b[0;34m,\u001b[0m \u001b[0mnamskeid\u001b[0m\u001b[0;34m]\u001b[0m \u001b[0;32mfor\u001b[0m \u001b[0mdagar\u001b[0m \u001b[0;32min\u001b[0m \u001b[0mD\u001b[0m \u001b[0;32mfor\u001b[0m \u001b[0mholf\u001b[0m \u001b[0;32min\u001b[0m \u001b[0mh\u001b[0m \u001b[0;32mfor\u001b[0m \u001b[0mnamskeid\u001b[0m \u001b[0;32min\u001b[0m \u001b[0mN\u001b[0m\u001b[0;34m)\u001b[0m \u001b[0;34m<=\u001b[0m \u001b[0;36m1\u001b[0m \u001b[0;32mfor\u001b[0m \u001b[0mstofur\u001b[0m \u001b[0;32min\u001b[0m \u001b[0mS\u001b[0m\u001b[0;34m)\u001b[0m \u001b[0;31m#ekki hægt að tvíbóka stofur\u001b[0m\u001b[0;34m\u001b[0m\u001b[0;34m\u001b[0m\u001b[0m\n\u001b[0m\u001b[1;32m     15\u001b[0m \u001b[0mm\u001b[0m\u001b[0;34m.\u001b[0m\u001b[0maddConstrs\u001b[0m\u001b[0;34m(\u001b[0m\u001b[0mgp\u001b[0m\u001b[0;34m.\u001b[0m\u001b[0mquicksum\u001b[0m\u001b[0;34m(\u001b[0m\u001b[0my\u001b[0m\u001b[0;34m[\u001b[0m\u001b[0mdagar\u001b[0m\u001b[0;34m,\u001b[0m\u001b[0mnamskeid\u001b[0m\u001b[0;34m]\u001b[0m \u001b[0;32mfor\u001b[0m \u001b[0mdagar\u001b[0m \u001b[0;32min\u001b[0m \u001b[0md\u001b[0m\u001b[0;34m)\u001b[0m \u001b[0;34m<=\u001b[0m\u001b[0;36m1\u001b[0m \u001b[0;32mfor\u001b[0m \u001b[0mnamskeid\u001b[0m \u001b[0;32min\u001b[0m \u001b[0mN\u001b[0m\u001b[0;34m)\u001b[0m\u001b[0;34m\u001b[0m\u001b[0;34m\u001b[0m\u001b[0m\n\u001b[1;32m     16\u001b[0m \u001b[0;34m\u001b[0m\u001b[0m\n",
            "\u001b[0;32msrc/gurobipy/gurobi.pxi\u001b[0m in \u001b[0;36mgurobipy.quicksum\u001b[0;34m()\u001b[0m\n",
            "\u001b[0;32m<ipython-input-40-0c378a930959>\u001b[0m in \u001b[0;36m<genexpr>\u001b[0;34m(.0)\u001b[0m\n\u001b[1;32m     12\u001b[0m \u001b[0mm\u001b[0m\u001b[0;34m.\u001b[0m\u001b[0maddConstrs\u001b[0m\u001b[0;34m(\u001b[0m\u001b[0mgp\u001b[0m\u001b[0;34m.\u001b[0m\u001b[0mquicksum\u001b[0m\u001b[0;34m(\u001b[0m\u001b[0my\u001b[0m\u001b[0;34m[\u001b[0m\u001b[0mstofur\u001b[0m\u001b[0;34m,\u001b[0m\u001b[0mdagar\u001b[0m\u001b[0;34m,\u001b[0m\u001b[0mholf\u001b[0m\u001b[0;34m,\u001b[0m\u001b[0mnamskeid\u001b[0m\u001b[0;34m]\u001b[0m \u001b[0;32mfor\u001b[0m \u001b[0mstofur\u001b[0m \u001b[0;32min\u001b[0m \u001b[0mS\u001b[0m \u001b[0;32mfor\u001b[0m \u001b[0mdagar\u001b[0m \u001b[0;32min\u001b[0m \u001b[0md\u001b[0m \u001b[0;32mfor\u001b[0m \u001b[0mholf\u001b[0m \u001b[0;32min\u001b[0m \u001b[0mh\u001b[0m\u001b[0;34m)\u001b[0m \u001b[0;34m<=\u001b[0m \u001b[0;36m2\u001b[0m \u001b[0;32mfor\u001b[0m \u001b[0mnamskeid\u001b[0m \u001b[0;32min\u001b[0m \u001b[0mN\u001b[0m\u001b[0;34m)\u001b[0m \u001b[0;31m#fyrir hvert námskeið eru tvö hólf í viku\u001b[0m\u001b[0;34m\u001b[0m\u001b[0;34m\u001b[0m\u001b[0m\n\u001b[1;32m     13\u001b[0m \u001b[0mm\u001b[0m\u001b[0;34m.\u001b[0m\u001b[0maddConstrs\u001b[0m\u001b[0;34m(\u001b[0m\u001b[0mgp\u001b[0m\u001b[0;34m.\u001b[0m\u001b[0mquicksum\u001b[0m\u001b[0;34m(\u001b[0m\u001b[0my\u001b[0m\u001b[0;34m[\u001b[0m\u001b[0mstofur\u001b[0m\u001b[0;34m,\u001b[0m \u001b[0mdagar\u001b[0m\u001b[0;34m,\u001b[0m \u001b[0mholf\u001b[0m\u001b[0;34m,\u001b[0m \u001b[0mnamskeid\u001b[0m\u001b[0;34m]\u001b[0m \u001b[0;32mfor\u001b[0m \u001b[0mstofur\u001b[0m \u001b[0;32min\u001b[0m \u001b[0mS\u001b[0m \u001b[0;32mfor\u001b[0m \u001b[0mdagar\u001b[0m \u001b[0;32min\u001b[0m \u001b[0md\u001b[0m \u001b[0;32mfor\u001b[0m \u001b[0mnamskeid\u001b[0m \u001b[0;32min\u001b[0m \u001b[0mN\u001b[0m\u001b[0;34m)\u001b[0m \u001b[0;34m<=\u001b[0m \u001b[0;36m1\u001b[0m \u001b[0;32mfor\u001b[0m \u001b[0mholf\u001b[0m \u001b[0;32min\u001b[0m \u001b[0mh\u001b[0m\u001b[0;34m)\u001b[0m \u001b[0;31m#Ekki tveir tímar í sama hólf\u001b[0m\u001b[0;34m\u001b[0m\u001b[0;34m\u001b[0m\u001b[0m\n\u001b[0;32m---> 14\u001b[0;31m \u001b[0mm\u001b[0m\u001b[0;34m.\u001b[0m\u001b[0maddConstrs\u001b[0m\u001b[0;34m(\u001b[0m\u001b[0mgp\u001b[0m\u001b[0;34m.\u001b[0m\u001b[0mquicksum\u001b[0m\u001b[0;34m(\u001b[0m\u001b[0my\u001b[0m\u001b[0;34m[\u001b[0m\u001b[0mstofur\u001b[0m\u001b[0;34m,\u001b[0m \u001b[0mdagar\u001b[0m\u001b[0;34m,\u001b[0m \u001b[0mholf\u001b[0m\u001b[0;34m,\u001b[0m \u001b[0mnamskeid\u001b[0m\u001b[0;34m]\u001b[0m \u001b[0;32mfor\u001b[0m \u001b[0mdagar\u001b[0m \u001b[0;32min\u001b[0m \u001b[0mD\u001b[0m \u001b[0;32mfor\u001b[0m \u001b[0mholf\u001b[0m \u001b[0;32min\u001b[0m \u001b[0mh\u001b[0m \u001b[0;32mfor\u001b[0m \u001b[0mnamskeid\u001b[0m \u001b[0;32min\u001b[0m \u001b[0mN\u001b[0m\u001b[0;34m)\u001b[0m \u001b[0;34m<=\u001b[0m \u001b[0;36m1\u001b[0m \u001b[0;32mfor\u001b[0m \u001b[0mstofur\u001b[0m \u001b[0;32min\u001b[0m \u001b[0mS\u001b[0m\u001b[0;34m)\u001b[0m \u001b[0;31m#ekki hægt að tvíbóka stofur\u001b[0m\u001b[0;34m\u001b[0m\u001b[0;34m\u001b[0m\u001b[0m\n\u001b[0m\u001b[1;32m     15\u001b[0m \u001b[0mm\u001b[0m\u001b[0;34m.\u001b[0m\u001b[0maddConstrs\u001b[0m\u001b[0;34m(\u001b[0m\u001b[0mgp\u001b[0m\u001b[0;34m.\u001b[0m\u001b[0mquicksum\u001b[0m\u001b[0;34m(\u001b[0m\u001b[0my\u001b[0m\u001b[0;34m[\u001b[0m\u001b[0mdagar\u001b[0m\u001b[0;34m,\u001b[0m\u001b[0mnamskeid\u001b[0m\u001b[0;34m]\u001b[0m \u001b[0;32mfor\u001b[0m \u001b[0mdagar\u001b[0m \u001b[0;32min\u001b[0m \u001b[0md\u001b[0m\u001b[0;34m)\u001b[0m \u001b[0;34m<=\u001b[0m\u001b[0;36m1\u001b[0m \u001b[0;32mfor\u001b[0m \u001b[0mnamskeid\u001b[0m \u001b[0;32min\u001b[0m \u001b[0mN\u001b[0m\u001b[0;34m)\u001b[0m\u001b[0;34m\u001b[0m\u001b[0;34m\u001b[0m\u001b[0m\n\u001b[1;32m     16\u001b[0m \u001b[0;34m\u001b[0m\u001b[0m\n",
            "\u001b[0;31mKeyError\u001b[0m: ('V02-147', 0, 1, '5054RAF305G20216')"
          ]
        }
      ]
    },
    {
      "cell_type": "markdown",
      "metadata": {
        "id": "B5DyZNLuJ67r"
      },
      "source": [
        "Þetta hérna að neðan er eitthvað sem við gætum mögulega notað til að sýna úrlausnina okkar! EKKI NAUÐSYNLEGT"
      ]
    },
    {
      "cell_type": "code",
      "metadata": {
        "id": "kJk_3vTEKFe-",
        "colab": {
          "base_uri": "https://localhost:8080/"
        },
        "outputId": "5a6e7907-7048-401f-b9bd-f7173ce9e28b"
      },
      "source": [
        "# Dæmi um hvernig væri hægt að vísa í gögnin:\n",
        "print(\"Fjöldi námskeiða í boði hjá VON eru \", len(N))\n",
        "# Skoðum árekstur og tengingu námsskeiða út frá námsbrautum\n",
        "heiti = '5051IÐN508M20216' # okkar námskeið\n",
        "for namskeid in N:\n",
        "    if A.loc[heiti,namskeid] > 0 and L.loc[heiti,namskeid] == 1:\n",
        "        print(\"Á námsbraut með \", heiti, \" : \", namskeid, \" fjöldi er \", A.loc[heiti,namskeid])\n",
        "    elif A.loc[heiti,namskeid] > 0:\n",
        "        print(\"Valnámskeið með \", heiti, \" : \", namskeid, \" fjöldi er \", A.loc[heiti,namskeid])"
      ],
      "execution_count": null,
      "outputs": [
        {
          "output_type": "stream",
          "name": "stdout",
          "text": [
            "Fjöldi námskeiða í boði hjá VON eru  296\n",
            "Valnámskeið með  5051IÐN508M20216  :  5055EFN301G20216  fjöldi er  1\n",
            "Valnámskeið með  5051IÐN508M20216  :  5055EÐL102G20216  fjöldi er  1\n",
            "Valnámskeið með  5051IÐN508M20216  :  5055STÆ104G20216  fjöldi er  1\n",
            "Valnámskeið með  5051IÐN508M20216  :  5055STÆ302G20216  fjöldi er  2\n",
            "Á námsbraut með  5051IÐN508M20216  :  5051IÐN508M20216  fjöldi er  32\n",
            "Valnámskeið með  5051IÐN508M20216  :  5051IÐN113F20216  fjöldi er  1\n",
            "Valnámskeið með  5051IÐN508M20216  :  5051IÐN303G20216  fjöldi er  6\n",
            "Valnámskeið með  5051IÐN508M20216  :  5051IÐN102M20216  fjöldi er  2\n",
            "Á námsbraut með  5051IÐN508M20216  :  5051IÐN502G20216  fjöldi er  27\n",
            "Á námsbraut með  5051IÐN508M20216  :  5051IÐN509M20216  fjöldi er  30\n",
            "Valnámskeið með  5051IÐN508M20216  :  5051IÐN103G20216  fjöldi er  2\n",
            "Valnámskeið með  5051IÐN508M20216  :  5051IÐN302G20216  fjöldi er  2\n",
            "Valnámskeið með  5051IÐN508M20216  :  5051TÖL107G20216  fjöldi er  1\n",
            "Valnámskeið með  5051IÐN508M20216  :  5051TÖL101G20216  fjöldi er  2\n",
            "Valnámskeið með  5051IÐN508M20216  :  5051VÉL502G20216  fjöldi er  1\n",
            "Valnámskeið með  5051IÐN508M20216  :  5051VÉL301G20216  fjöldi er  1\n",
            "Valnámskeið með  5051IÐN508M20216  :  5051IÐN503G20216  fjöldi er  1\n",
            "Valnámskeið með  5051IÐN508M20216  :  5051IÐN101M20216  fjöldi er  9\n",
            "Valnámskeið með  5051IÐN508M20216  :  5051IÐN301G20216  fjöldi er  3\n",
            "Á námsbraut með  5051IÐN508M20216  :  5051IÐN510M20216  fjöldi er  26\n",
            "Valnámskeið með  5051IÐN508M20216  :  5051VON004G20216  fjöldi er  1\n"
          ]
        }
      ]
    },
    {
      "cell_type": "code",
      "metadata": {
        "id": "p9MmOY7kprLD"
      },
      "source": [
        "# Skoða myndrænt hvernig námsleiðir tengjast\n",
        "import numpy as np\n",
        "import networkx as nx\n",
        "import matplotlib.pyplot as plt\n",
        "\n",
        "G = nx.from_pandas_adjacency(L > 0)\n",
        "node_locs = nx.circular_layout(G)\n",
        "theta = {k: np.arctan2(v[1], v[0]) * 180/np.pi for k, v in node_locs.items() }\n",
        "plt.figure(figsize=(20,20))\n",
        "nx.draw_networkx_nodes(G, pos=node_locs, alpha=.5, node_size=2)\n",
        "labels = nx.draw_networkx_labels(G, pos=node_locs, font_size=8)\n",
        "for key,t in labels.items():\n",
        "    if 90 < theta[key] or theta[key] < -90 :\n",
        "        angle = 180 + theta[key]\n",
        "        t.set_ha('right')\n",
        "    else:\n",
        "        angle = theta[key]\n",
        "        t.set_ha('left')\n",
        "    t.set_va('center')\n",
        "    t.set_rotation(angle)\n",
        "    t.set_rotation_mode('anchor')\n",
        "    t.set_text(t.get_text()[4:11])\n",
        "\n",
        "nx.draw_networkx_edges(G, pos=node_locs, alpha=.4)\n",
        "plt.box(\"off\")\n",
        "plt.xlim(-1.2,1.2)\n",
        "plt.ylim(-1.2,1.2)\n",
        "\n",
        "plt.show()"
      ],
      "execution_count": null,
      "outputs": []
    },
    {
      "cell_type": "code",
      "metadata": {
        "id": "rDyXR0S3flQA"
      },
      "source": [
        "# Dæmi um hvernig væri hægt að búa til stundatöflu með Gurobi lausn (y), sjá líka Wolsey 1.7 dæmi, hlekk á Canvas:\n",
        "def soln_to_pandas(ns, y, N, H, D, S):\n",
        "    df = pd.DataFrame(index=H, columns=D)\n",
        "    for n in ns:\n",
        "        for d in D:\n",
        "            for h in H:\n",
        "                for s in S:\n",
        "                    if y[n,h,d,s].X > 0:\n",
        "                      df.iloc[t,d] = n[4:11]+\"(\"+s+\")\"\n",
        "    df = df.rename_axis('Tímahólf').rename_axis('Vikudagur', axis='columns')\n",
        "    return df\n",
        "df = soln_to_pandas(['5051IÐN508M20216','5051IÐN502G20216','5051IÐN509M20216','5051IÐN510M20216','5051IÐN101M20216','5051IÐN303G20216'],y,N,H,D,S)\n",
        "df"
      ],
      "execution_count": null,
      "outputs": []
    }
  ]
}